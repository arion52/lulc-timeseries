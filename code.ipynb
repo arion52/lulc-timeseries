{
 "cells": [
  {
   "cell_type": "markdown",
   "metadata": {},
   "source": [
    "## Histogram Equalization"
   ]
  },
  {
   "cell_type": "code",
   "execution_count": 1,
   "metadata": {},
   "outputs": [],
   "source": [
    "import cv2 \n",
    "import numpy as np \n",
    "inp = input(\"Enter the path of the image: \") \n",
    "img = cv2.imread(inp, 0) \n",
    "\n",
    "equ = cv2.equalizeHist(img) \n",
    "res = np.hstack((img, equ)) \n",
    "\n",
    "cv2.imshow(res)\n",
    "# save the image\n",
    "cv2.imwrite('res.png', res)\n",
    "  \n",
    "cv2.waitKey(0) \n",
    "cv2.destroyAllWindows() "
   ]
  },
  {
   "cell_type": "markdown",
   "metadata": {},
   "source": [
    "## Ground Control Points (GCPs)"
   ]
  },
  {
   "cell_type": "code",
   "execution_count": null,
   "metadata": {},
   "outputs": [],
   "source": [
    "\n",
    "import rasterio\n",
    "from rasterio.transform import from_gcps\n",
    "\n",
    "# ... define your GCPs as above\n",
    "gcps = [\n",
    "    (100, 200, 45.123, -75.456, 100.0),  # (pixel_x, pixel_y, lon, lat, elevation)\n",
    "    (500, 300, 45.124, -75.457, 110.0),\n",
    "    # ... more GCPs\n",
    "]\n",
    "\n",
    "# Create an affine transformation matrix from GCPs\n",
    "transform = from_gcps(gcps)\n",
    "\n",
    "# Open the image you want to georeference\n",
    "with rasterio.open(\"image.tif\") as src:\n",
    "    # Update the image's metadata with the new transformation\n",
    "    profile = src.profile\n",
    "    profile.update(transform=transform, crs=\"EPSG:4326\")  # Set desired CRS\n",
    "\n",
    "    # Write the georeferenced image to a new file\n",
    "    with rasterio.open(\"georeferenced_image.tif\", \"w\", **profile) as dst:\n",
    "        dst.write(src.read())\n"
   ]
  },
  {
   "cell_type": "markdown",
   "metadata": {},
   "source": [
    "## Denoising"
   ]
  },
  {
   "cell_type": "code",
   "execution_count": null,
   "metadata": {},
   "outputs": [],
   "source": [
    "# Importing the required libraries and the dataset\n",
    "import numpy \n",
    "import matplotlib.pyplot as plt\n",
    "from keras.models import Sequential\n",
    "from keras.layers import Dense\n",
    "from keras.datasets import mnist\n",
    "\n",
    "(X_train, y_train), (X_test, y_test) = mnist.load_data()"
   ]
  },
  {
   "cell_type": "code",
   "execution_count": null,
   "metadata": {},
   "outputs": [],
   "source": [
    "# Formatting the dataset for keras\n",
    "num_pixels = X_train.shape[1] * X_train.shape[2]\n",
    "X_train = X_train.reshape(X_train.shape[0], num_pixels).astype('float32')\n",
    "X_test = X_test.reshape(X_test.shape[0], num_pixels).astype('float32')\n",
    "X_train = X_train / 255\n",
    "X_test = X_test / 255\n",
    "\n",
    "# Adding noise to the dataset\n",
    "noise_factor = 0.2\n",
    "x_train_noisy = X_train + noise_factor * numpy.random.normal(loc=0.0, scale=1.0, size=X_train.shape)\n",
    "x_test_noisy = X_test + noise_factor * numpy.random.normal(loc=0.0, scale=1.0, size=X_test.shape)\n",
    "x_train_noisy = numpy.clip(x_train_noisy, 0., 1.)\n",
    "x_test_noisy = numpy.clip(x_test_noisy, 0., 1.)"
   ]
  },
  {
   "cell_type": "code",
   "execution_count": null,
   "metadata": {},
   "outputs": [],
   "source": [
    "# create model\n",
    "model = Sequential()\n",
    "model.add(Dense(500, input_dim=num_pixels, activation='relu'))\n",
    "model.add(Dense(300, activation='relu'))\n",
    "model.add(Dense(100, activation='relu'))\n",
    "model.add(Dense(300, activation='relu'))\n",
    "model.add(Dense(500, activation='relu'))\n",
    "model.add(Dense(784, activation='sigmoid'))\n",
    "\n",
    "# Compile the model\n",
    "model.compile(loss='mean_squared_error', optimizer='adam')\n",
    "\n",
    "# Training model\n",
    "model.fit(x_train_noisy, X_train, validation_data=(x_test_noisy, X_test), epochs=2, batch_size=200)"
   ]
  },
  {
   "cell_type": "code",
   "execution_count": null,
   "metadata": {},
   "outputs": [],
   "source": []
  }
 ],
 "metadata": {
  "kernelspec": {
   "display_name": "Python 3",
   "language": "python",
   "name": "python3"
  },
  "language_info": {
   "codemirror_mode": {
    "name": "ipython",
    "version": 3
   },
   "file_extension": ".py",
   "mimetype": "text/x-python",
   "name": "python",
   "nbconvert_exporter": "python",
   "pygments_lexer": "ipython3",
   "version": "3.12.3"
  }
 },
 "nbformat": 4,
 "nbformat_minor": 2
}
